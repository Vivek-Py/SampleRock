{
 "metadata": {
  "language_info": {
   "codemirror_mode": {
    "name": "ipython",
    "version": 3
   },
   "file_extension": ".py",
   "mimetype": "text/x-python",
   "name": "python",
   "nbconvert_exporter": "python",
   "pygments_lexer": "ipython3",
   "version": "3.7.6-final"
  },
  "orig_nbformat": 2,
  "kernelspec": {
   "name": "Python 3.7.6 64-bit ('base': conda)",
   "display_name": "Python 3.7.6 64-bit ('base': conda)",
   "metadata": {
    "interpreter": {
     "hash": "abea577a0a66a77e95cbd3619f50018aa59a0be6b4b99dc7f0142293888a346f"
    }
   }
  }
 },
 "nbformat": 4,
 "nbformat_minor": 2,
 "cells": [
  {
   "cell_type": "code",
   "execution_count": 1,
   "metadata": {},
   "outputs": [],
   "source": [
    "import pandas as pd \n",
    "rock_samples = pd.read_csv(\"./data/rocksamples.csv\")"
   ]
  },
  {
   "cell_type": "code",
   "execution_count": 2,
   "metadata": {},
   "outputs": [
    {
     "output_type": "execute_result",
     "data": {
      "text/plain": [
       "      ID   Mission    Type   Subtype  Weight(g)  Pristine(%)\n",
       "0  10001  Apollo11    Soil  Unsieved      125.8        88.36\n",
       "1  10002  Apollo11    Soil  Unsieved     5629.0        93.73\n",
       "2  10003  Apollo11  Basalt  Ilmenite      213.0        65.56\n",
       "3  10004  Apollo11    Core  Unsieved       44.8        71.76\n",
       "4  10005  Apollo11    Core  Unsieved       53.4        40.31"
      ],
      "text/html": "<div>\n<style scoped>\n    .dataframe tbody tr th:only-of-type {\n        vertical-align: middle;\n    }\n\n    .dataframe tbody tr th {\n        vertical-align: top;\n    }\n\n    .dataframe thead th {\n        text-align: right;\n    }\n</style>\n<table border=\"1\" class=\"dataframe\">\n  <thead>\n    <tr style=\"text-align: right;\">\n      <th></th>\n      <th>ID</th>\n      <th>Mission</th>\n      <th>Type</th>\n      <th>Subtype</th>\n      <th>Weight(g)</th>\n      <th>Pristine(%)</th>\n    </tr>\n  </thead>\n  <tbody>\n    <tr>\n      <th>0</th>\n      <td>10001</td>\n      <td>Apollo11</td>\n      <td>Soil</td>\n      <td>Unsieved</td>\n      <td>125.8</td>\n      <td>88.36</td>\n    </tr>\n    <tr>\n      <th>1</th>\n      <td>10002</td>\n      <td>Apollo11</td>\n      <td>Soil</td>\n      <td>Unsieved</td>\n      <td>5629.0</td>\n      <td>93.73</td>\n    </tr>\n    <tr>\n      <th>2</th>\n      <td>10003</td>\n      <td>Apollo11</td>\n      <td>Basalt</td>\n      <td>Ilmenite</td>\n      <td>213.0</td>\n      <td>65.56</td>\n    </tr>\n    <tr>\n      <th>3</th>\n      <td>10004</td>\n      <td>Apollo11</td>\n      <td>Core</td>\n      <td>Unsieved</td>\n      <td>44.8</td>\n      <td>71.76</td>\n    </tr>\n    <tr>\n      <th>4</th>\n      <td>10005</td>\n      <td>Apollo11</td>\n      <td>Core</td>\n      <td>Unsieved</td>\n      <td>53.4</td>\n      <td>40.31</td>\n    </tr>\n  </tbody>\n</table>\n</div>"
     },
     "metadata": {},
     "execution_count": 2
    }
   ],
   "source": [
    "rock_samples.head()"
   ]
  },
  {
   "cell_type": "code",
   "execution_count": 3,
   "metadata": {},
   "outputs": [
    {
     "output_type": "stream",
     "name": "stdout",
     "text": [
      "<class 'pandas.core.frame.DataFrame'>\nRangeIndex: 2229 entries, 0 to 2228\nData columns (total 6 columns):\n #   Column       Non-Null Count  Dtype  \n---  ------       --------------  -----  \n 0   ID           2229 non-null   int64  \n 1   Mission      2229 non-null   object \n 2   Type         2229 non-null   object \n 3   Subtype      2226 non-null   object \n 4   Weight(g)    2229 non-null   float64\n 5   Pristine(%)  2229 non-null   float64\ndtypes: float64(2), int64(1), object(3)\nmemory usage: 104.6+ KB\n"
     ]
    }
   ],
   "source": [
    "rock_samples.info()"
   ]
  },
  {
   "cell_type": "code",
   "execution_count": 4,
   "metadata": {},
   "outputs": [],
   "source": [
    "rock_samples['Weight(g)'] = rock_samples['Weight(g)'].apply(lambda x : x * 0.001)\n",
    "rock_samples.rename(columns={'Weight(g)' : 'Weight(kg)'}, inplace=True)"
   ]
  },
  {
   "cell_type": "code",
   "execution_count": 5,
   "metadata": {},
   "outputs": [
    {
     "output_type": "execute_result",
     "data": {
      "text/plain": [
       "    Mission\n",
       "0  Apollo11\n",
       "1  Apollo12\n",
       "2  Apollo14\n",
       "3  Apollo15\n",
       "4  Apollo16"
      ],
      "text/html": "<div>\n<style scoped>\n    .dataframe tbody tr th:only-of-type {\n        vertical-align: middle;\n    }\n\n    .dataframe tbody tr th {\n        vertical-align: top;\n    }\n\n    .dataframe thead th {\n        text-align: right;\n    }\n</style>\n<table border=\"1\" class=\"dataframe\">\n  <thead>\n    <tr style=\"text-align: right;\">\n      <th></th>\n      <th>Mission</th>\n    </tr>\n  </thead>\n  <tbody>\n    <tr>\n      <th>0</th>\n      <td>Apollo11</td>\n    </tr>\n    <tr>\n      <th>1</th>\n      <td>Apollo12</td>\n    </tr>\n    <tr>\n      <th>2</th>\n      <td>Apollo14</td>\n    </tr>\n    <tr>\n      <th>3</th>\n      <td>Apollo15</td>\n    </tr>\n    <tr>\n      <th>4</th>\n      <td>Apollo16</td>\n    </tr>\n  </tbody>\n</table>\n</div>"
     },
     "metadata": {},
     "execution_count": 5
    }
   ],
   "source": [
    "missions = pd.DataFrame()\n",
    "missions['Mission'] = rock_samples['Mission'].unique()\n",
    "missions.head()"
   ]
  },
  {
   "cell_type": "code",
   "execution_count": 6,
   "metadata": {},
   "outputs": [
    {
     "output_type": "stream",
     "name": "stdout",
     "text": [
      "<class 'pandas.core.frame.DataFrame'>\nRangeIndex: 6 entries, 0 to 5\nData columns (total 1 columns):\n #   Column   Non-Null Count  Dtype \n---  ------   --------------  ----- \n 0   Mission  6 non-null      object\ndtypes: object(1)\nmemory usage: 176.0+ bytes\n"
     ]
    }
   ],
   "source": [
    "missions.info()"
   ]
  },
  {
   "cell_type": "code",
   "execution_count": 7,
   "metadata": {},
   "outputs": [],
   "source": [
    "sample_total_weight = rock_samples.groupby('Mission')['Weight(kg)'].sum()\n",
    "missions = pd.merge(missions, sample_total_weight, on='Mission')\n",
    "missions.rename(columns={'Weight(kg)': 'Sample Weight(kg)'}, inplace=True)"
   ]
  },
  {
   "cell_type": "code",
   "execution_count": 8,
   "metadata": {},
   "outputs": [
    {
     "output_type": "execute_result",
     "data": {
      "text/plain": [
       "    Mission  Sample Weight(kg)\n",
       "0  Apollo11           21.55424\n",
       "1  Apollo12           34.34238\n",
       "2  Apollo14           41.83363\n",
       "3  Apollo15           75.39910\n",
       "4  Apollo16           92.46262\n",
       "5  Apollo17          109.44402"
      ],
      "text/html": "<div>\n<style scoped>\n    .dataframe tbody tr th:only-of-type {\n        vertical-align: middle;\n    }\n\n    .dataframe tbody tr th {\n        vertical-align: top;\n    }\n\n    .dataframe thead th {\n        text-align: right;\n    }\n</style>\n<table border=\"1\" class=\"dataframe\">\n  <thead>\n    <tr style=\"text-align: right;\">\n      <th></th>\n      <th>Mission</th>\n      <th>Sample Weight(kg)</th>\n    </tr>\n  </thead>\n  <tbody>\n    <tr>\n      <th>0</th>\n      <td>Apollo11</td>\n      <td>21.55424</td>\n    </tr>\n    <tr>\n      <th>1</th>\n      <td>Apollo12</td>\n      <td>34.34238</td>\n    </tr>\n    <tr>\n      <th>2</th>\n      <td>Apollo14</td>\n      <td>41.83363</td>\n    </tr>\n    <tr>\n      <th>3</th>\n      <td>Apollo15</td>\n      <td>75.39910</td>\n    </tr>\n    <tr>\n      <th>4</th>\n      <td>Apollo16</td>\n      <td>92.46262</td>\n    </tr>\n    <tr>\n      <th>5</th>\n      <td>Apollo17</td>\n      <td>109.44402</td>\n    </tr>\n  </tbody>\n</table>\n</div>"
     },
     "metadata": {},
     "execution_count": 8
    }
   ],
   "source": [
    "missions"
   ]
  },
  {
   "cell_type": "code",
   "execution_count": 9,
   "metadata": {},
   "outputs": [],
   "source": [
    "missions['Weight Diff'] = missions['Sample Weight(kg)'].diff()"
   ]
  },
  {
   "cell_type": "code",
   "execution_count": 10,
   "metadata": {},
   "outputs": [
    {
     "output_type": "execute_result",
     "data": {
      "text/plain": [
       "    Mission  Sample Weight(kg)  Weight Diff\n",
       "0  Apollo11           21.55424          NaN\n",
       "1  Apollo12           34.34238     12.78814\n",
       "2  Apollo14           41.83363      7.49125\n",
       "3  Apollo15           75.39910     33.56547\n",
       "4  Apollo16           92.46262     17.06352\n",
       "5  Apollo17          109.44402     16.98140"
      ],
      "text/html": "<div>\n<style scoped>\n    .dataframe tbody tr th:only-of-type {\n        vertical-align: middle;\n    }\n\n    .dataframe tbody tr th {\n        vertical-align: top;\n    }\n\n    .dataframe thead th {\n        text-align: right;\n    }\n</style>\n<table border=\"1\" class=\"dataframe\">\n  <thead>\n    <tr style=\"text-align: right;\">\n      <th></th>\n      <th>Mission</th>\n      <th>Sample Weight(kg)</th>\n      <th>Weight Diff</th>\n    </tr>\n  </thead>\n  <tbody>\n    <tr>\n      <th>0</th>\n      <td>Apollo11</td>\n      <td>21.55424</td>\n      <td>NaN</td>\n    </tr>\n    <tr>\n      <th>1</th>\n      <td>Apollo12</td>\n      <td>34.34238</td>\n      <td>12.78814</td>\n    </tr>\n    <tr>\n      <th>2</th>\n      <td>Apollo14</td>\n      <td>41.83363</td>\n      <td>7.49125</td>\n    </tr>\n    <tr>\n      <th>3</th>\n      <td>Apollo15</td>\n      <td>75.39910</td>\n      <td>33.56547</td>\n    </tr>\n    <tr>\n      <th>4</th>\n      <td>Apollo16</td>\n      <td>92.46262</td>\n      <td>17.06352</td>\n    </tr>\n    <tr>\n      <th>5</th>\n      <td>Apollo17</td>\n      <td>109.44402</td>\n      <td>16.98140</td>\n    </tr>\n  </tbody>\n</table>\n</div>"
     },
     "metadata": {},
     "execution_count": 10
    }
   ],
   "source": [
    "missions"
   ]
  },
  {
   "cell_type": "code",
   "execution_count": 11,
   "metadata": {},
   "outputs": [],
   "source": [
    "missions['Weight Diff'] = missions['Weight Diff'].fillna(0)"
   ]
  },
  {
   "cell_type": "code",
   "execution_count": 12,
   "metadata": {},
   "outputs": [
    {
     "output_type": "execute_result",
     "data": {
      "text/plain": [
       "    Mission  Sample Weight(kg)  Weight Diff\n",
       "0  Apollo11           21.55424      0.00000\n",
       "1  Apollo12           34.34238     12.78814\n",
       "2  Apollo14           41.83363      7.49125\n",
       "3  Apollo15           75.39910     33.56547\n",
       "4  Apollo16           92.46262     17.06352\n",
       "5  Apollo17          109.44402     16.98140"
      ],
      "text/html": "<div>\n<style scoped>\n    .dataframe tbody tr th:only-of-type {\n        vertical-align: middle;\n    }\n\n    .dataframe tbody tr th {\n        vertical-align: top;\n    }\n\n    .dataframe thead th {\n        text-align: right;\n    }\n</style>\n<table border=\"1\" class=\"dataframe\">\n  <thead>\n    <tr style=\"text-align: right;\">\n      <th></th>\n      <th>Mission</th>\n      <th>Sample Weight(kg)</th>\n      <th>Weight Diff</th>\n    </tr>\n  </thead>\n  <tbody>\n    <tr>\n      <th>0</th>\n      <td>Apollo11</td>\n      <td>21.55424</td>\n      <td>0.00000</td>\n    </tr>\n    <tr>\n      <th>1</th>\n      <td>Apollo12</td>\n      <td>34.34238</td>\n      <td>12.78814</td>\n    </tr>\n    <tr>\n      <th>2</th>\n      <td>Apollo14</td>\n      <td>41.83363</td>\n      <td>7.49125</td>\n    </tr>\n    <tr>\n      <th>3</th>\n      <td>Apollo15</td>\n      <td>75.39910</td>\n      <td>33.56547</td>\n    </tr>\n    <tr>\n      <th>4</th>\n      <td>Apollo16</td>\n      <td>92.46262</td>\n      <td>17.06352</td>\n    </tr>\n    <tr>\n      <th>5</th>\n      <td>Apollo17</td>\n      <td>109.44402</td>\n      <td>16.98140</td>\n    </tr>\n  </tbody>\n</table>\n</div>"
     },
     "metadata": {},
     "execution_count": 12
    }
   ],
   "source": [
    "missions"
   ]
  },
  {
   "cell_type": "code",
   "execution_count": 13,
   "metadata": {},
   "outputs": [],
   "source": [
    "missions['Lunar Module (LM)'] = {'Eagle (LM-5)', 'Intrepid (LM-6)', 'Antares (LM-8)', 'Falcon (LM-10)', 'Orion (LM-11)', 'Challenger (LM-12)'}\n",
    "missions['LM Mass (kg)'] = {15103, 15235, 15264, 16430, 16445, 16456}"
   ]
  },
  {
   "cell_type": "code",
   "execution_count": 14,
   "metadata": {},
   "outputs": [
    {
     "output_type": "execute_result",
     "data": {
      "text/plain": [
       "    Mission  Sample Weight(kg)  Weight Diff   Lunar Module (LM)  LM Mass (kg)  \\\n",
       "0  Apollo11           21.55424      0.00000     Intrepid (LM-6)         15264   \n",
       "1  Apollo12           34.34238     12.78814  Challenger (LM-12)         15235   \n",
       "2  Apollo14           41.83363      7.49125      Antares (LM-8)         16456   \n",
       "3  Apollo15           75.39910     33.56547        Eagle (LM-5)         16430   \n",
       "4  Apollo16           92.46262     17.06352       Orion (LM-11)         16445   \n",
       "5  Apollo17          109.44402     16.98140      Falcon (LM-10)         15103   \n",
       "\n",
       "   LM Mass Diff  \n",
       "0           0.0  \n",
       "1         -29.0  \n",
       "2        1221.0  \n",
       "3         -26.0  \n",
       "4          15.0  \n",
       "5       -1342.0  "
      ],
      "text/html": "<div>\n<style scoped>\n    .dataframe tbody tr th:only-of-type {\n        vertical-align: middle;\n    }\n\n    .dataframe tbody tr th {\n        vertical-align: top;\n    }\n\n    .dataframe thead th {\n        text-align: right;\n    }\n</style>\n<table border=\"1\" class=\"dataframe\">\n  <thead>\n    <tr style=\"text-align: right;\">\n      <th></th>\n      <th>Mission</th>\n      <th>Sample Weight(kg)</th>\n      <th>Weight Diff</th>\n      <th>Lunar Module (LM)</th>\n      <th>LM Mass (kg)</th>\n      <th>LM Mass Diff</th>\n    </tr>\n  </thead>\n  <tbody>\n    <tr>\n      <th>0</th>\n      <td>Apollo11</td>\n      <td>21.55424</td>\n      <td>0.00000</td>\n      <td>Intrepid (LM-6)</td>\n      <td>15264</td>\n      <td>0.0</td>\n    </tr>\n    <tr>\n      <th>1</th>\n      <td>Apollo12</td>\n      <td>34.34238</td>\n      <td>12.78814</td>\n      <td>Challenger (LM-12)</td>\n      <td>15235</td>\n      <td>-29.0</td>\n    </tr>\n    <tr>\n      <th>2</th>\n      <td>Apollo14</td>\n      <td>41.83363</td>\n      <td>7.49125</td>\n      <td>Antares (LM-8)</td>\n      <td>16456</td>\n      <td>1221.0</td>\n    </tr>\n    <tr>\n      <th>3</th>\n      <td>Apollo15</td>\n      <td>75.39910</td>\n      <td>33.56547</td>\n      <td>Eagle (LM-5)</td>\n      <td>16430</td>\n      <td>-26.0</td>\n    </tr>\n    <tr>\n      <th>4</th>\n      <td>Apollo16</td>\n      <td>92.46262</td>\n      <td>17.06352</td>\n      <td>Orion (LM-11)</td>\n      <td>16445</td>\n      <td>15.0</td>\n    </tr>\n    <tr>\n      <th>5</th>\n      <td>Apollo17</td>\n      <td>109.44402</td>\n      <td>16.98140</td>\n      <td>Falcon (LM-10)</td>\n      <td>15103</td>\n      <td>-1342.0</td>\n    </tr>\n  </tbody>\n</table>\n</div>"
     },
     "metadata": {},
     "execution_count": 14
    }
   ],
   "source": [
    "missions['LM Mass Diff'] = missions['LM Mass (kg)'].diff()\n",
    "missions['LM Mass Diff'] = missions['LM Mass Diff'].fillna(0)\n",
    "missions"
   ]
  },
  {
   "cell_type": "code",
   "execution_count": 15,
   "metadata": {},
   "outputs": [
    {
     "output_type": "execute_result",
     "data": {
      "text/plain": [
       "    Mission  Sample Weight(kg)  Weight Diff   Lunar Module (LM)  LM Mass (kg)  \\\n",
       "0  Apollo11           21.55424      0.00000     Intrepid (LM-6)         15264   \n",
       "1  Apollo12           34.34238     12.78814  Challenger (LM-12)         15235   \n",
       "2  Apollo14           41.83363      7.49125      Antares (LM-8)         16456   \n",
       "3  Apollo15           75.39910     33.56547        Eagle (LM-5)         16430   \n",
       "4  Apollo16           92.46262     17.06352       Orion (LM-11)         16445   \n",
       "5  Apollo17          109.44402     16.98140      Falcon (LM-10)         15103   \n",
       "\n",
       "   LM Mass Diff      Command Module (CM)  CM Mass (kg)  CM Mass Diff  \n",
       "0           0.0      Kitty Hawk (CM-110)          5960           0.0  \n",
       "1         -29.0          Casper (CM-113)          5609        -351.0  \n",
       "2        1221.0  Yankee Clipper (CM-108)          5840         231.0  \n",
       "3         -26.0       Columbia (CSM-107)          5875          35.0  \n",
       "4          15.0         America (CM-114)          5560        -315.0  \n",
       "5       -1342.0        Endeavor (CM-112)          5758         198.0  "
      ],
      "text/html": "<div>\n<style scoped>\n    .dataframe tbody tr th:only-of-type {\n        vertical-align: middle;\n    }\n\n    .dataframe tbody tr th {\n        vertical-align: top;\n    }\n\n    .dataframe thead th {\n        text-align: right;\n    }\n</style>\n<table border=\"1\" class=\"dataframe\">\n  <thead>\n    <tr style=\"text-align: right;\">\n      <th></th>\n      <th>Mission</th>\n      <th>Sample Weight(kg)</th>\n      <th>Weight Diff</th>\n      <th>Lunar Module (LM)</th>\n      <th>LM Mass (kg)</th>\n      <th>LM Mass Diff</th>\n      <th>Command Module (CM)</th>\n      <th>CM Mass (kg)</th>\n      <th>CM Mass Diff</th>\n    </tr>\n  </thead>\n  <tbody>\n    <tr>\n      <th>0</th>\n      <td>Apollo11</td>\n      <td>21.55424</td>\n      <td>0.00000</td>\n      <td>Intrepid (LM-6)</td>\n      <td>15264</td>\n      <td>0.0</td>\n      <td>Kitty Hawk (CM-110)</td>\n      <td>5960</td>\n      <td>0.0</td>\n    </tr>\n    <tr>\n      <th>1</th>\n      <td>Apollo12</td>\n      <td>34.34238</td>\n      <td>12.78814</td>\n      <td>Challenger (LM-12)</td>\n      <td>15235</td>\n      <td>-29.0</td>\n      <td>Casper (CM-113)</td>\n      <td>5609</td>\n      <td>-351.0</td>\n    </tr>\n    <tr>\n      <th>2</th>\n      <td>Apollo14</td>\n      <td>41.83363</td>\n      <td>7.49125</td>\n      <td>Antares (LM-8)</td>\n      <td>16456</td>\n      <td>1221.0</td>\n      <td>Yankee Clipper (CM-108)</td>\n      <td>5840</td>\n      <td>231.0</td>\n    </tr>\n    <tr>\n      <th>3</th>\n      <td>Apollo15</td>\n      <td>75.39910</td>\n      <td>33.56547</td>\n      <td>Eagle (LM-5)</td>\n      <td>16430</td>\n      <td>-26.0</td>\n      <td>Columbia (CSM-107)</td>\n      <td>5875</td>\n      <td>35.0</td>\n    </tr>\n    <tr>\n      <th>4</th>\n      <td>Apollo16</td>\n      <td>92.46262</td>\n      <td>17.06352</td>\n      <td>Orion (LM-11)</td>\n      <td>16445</td>\n      <td>15.0</td>\n      <td>America (CM-114)</td>\n      <td>5560</td>\n      <td>-315.0</td>\n    </tr>\n    <tr>\n      <th>5</th>\n      <td>Apollo17</td>\n      <td>109.44402</td>\n      <td>16.98140</td>\n      <td>Falcon (LM-10)</td>\n      <td>15103</td>\n      <td>-1342.0</td>\n      <td>Endeavor (CM-112)</td>\n      <td>5758</td>\n      <td>198.0</td>\n    </tr>\n  </tbody>\n</table>\n</div>"
     },
     "metadata": {},
     "execution_count": 15
    }
   ],
   "source": [
    "missions['Command Module (CM)'] = {'Columbia (CSM-107)', 'Yankee Clipper (CM-108)', 'Kitty Hawk (CM-110)', 'Endeavor (CM-112)', 'Casper (CM-113)', 'America (CM-114)'}\n",
    "missions['CM Mass (kg)'] = {5560, 5609, 5758, 5875, 5840, 5960}\n",
    "missions['CM Mass Diff'] = missions['CM Mass (kg)'].diff()\n",
    "missions['CM Mass Diff'] = missions['CM Mass Diff'].fillna(value=0)\n",
    "\n",
    "missions"
   ]
  },
  {
   "cell_type": "code",
   "execution_count": 16,
   "metadata": {},
   "outputs": [
    {
     "output_type": "execute_result",
     "data": {
      "text/plain": [
       "    Mission  Sample Weight(kg)  Weight Diff   Lunar Module (LM)  LM Mass (kg)  \\\n",
       "0  Apollo11           21.55424      0.00000     Intrepid (LM-6)         15264   \n",
       "1  Apollo12           34.34238     12.78814  Challenger (LM-12)         15235   \n",
       "2  Apollo14           41.83363      7.49125      Antares (LM-8)         16456   \n",
       "3  Apollo15           75.39910     33.56547        Eagle (LM-5)         16430   \n",
       "4  Apollo16           92.46262     17.06352       Orion (LM-11)         16445   \n",
       "5  Apollo17          109.44402     16.98140      Falcon (LM-10)         15103   \n",
       "\n",
       "   LM Mass Diff      Command Module (CM)  CM Mass (kg)  CM Mass Diff  \\\n",
       "0           0.0      Kitty Hawk (CM-110)          5960           0.0   \n",
       "1         -29.0          Casper (CM-113)          5609        -351.0   \n",
       "2        1221.0  Yankee Clipper (CM-108)          5840         231.0   \n",
       "3         -26.0       Columbia (CSM-107)          5875          35.0   \n",
       "4          15.0         America (CM-114)          5560        -315.0   \n",
       "5       -1342.0        Endeavor (CM-112)          5758         198.0   \n",
       "\n",
       "   Total Mass (kg)  Total Mass Diff (kg)  \n",
       "0            21224                   0.0  \n",
       "1            20844                -380.0  \n",
       "2            22296                1452.0  \n",
       "3            22305                   9.0  \n",
       "4            22005                -300.0  \n",
       "5            20861               -1144.0  "
      ],
      "text/html": "<div>\n<style scoped>\n    .dataframe tbody tr th:only-of-type {\n        vertical-align: middle;\n    }\n\n    .dataframe tbody tr th {\n        vertical-align: top;\n    }\n\n    .dataframe thead th {\n        text-align: right;\n    }\n</style>\n<table border=\"1\" class=\"dataframe\">\n  <thead>\n    <tr style=\"text-align: right;\">\n      <th></th>\n      <th>Mission</th>\n      <th>Sample Weight(kg)</th>\n      <th>Weight Diff</th>\n      <th>Lunar Module (LM)</th>\n      <th>LM Mass (kg)</th>\n      <th>LM Mass Diff</th>\n      <th>Command Module (CM)</th>\n      <th>CM Mass (kg)</th>\n      <th>CM Mass Diff</th>\n      <th>Total Mass (kg)</th>\n      <th>Total Mass Diff (kg)</th>\n    </tr>\n  </thead>\n  <tbody>\n    <tr>\n      <th>0</th>\n      <td>Apollo11</td>\n      <td>21.55424</td>\n      <td>0.00000</td>\n      <td>Intrepid (LM-6)</td>\n      <td>15264</td>\n      <td>0.0</td>\n      <td>Kitty Hawk (CM-110)</td>\n      <td>5960</td>\n      <td>0.0</td>\n      <td>21224</td>\n      <td>0.0</td>\n    </tr>\n    <tr>\n      <th>1</th>\n      <td>Apollo12</td>\n      <td>34.34238</td>\n      <td>12.78814</td>\n      <td>Challenger (LM-12)</td>\n      <td>15235</td>\n      <td>-29.0</td>\n      <td>Casper (CM-113)</td>\n      <td>5609</td>\n      <td>-351.0</td>\n      <td>20844</td>\n      <td>-380.0</td>\n    </tr>\n    <tr>\n      <th>2</th>\n      <td>Apollo14</td>\n      <td>41.83363</td>\n      <td>7.49125</td>\n      <td>Antares (LM-8)</td>\n      <td>16456</td>\n      <td>1221.0</td>\n      <td>Yankee Clipper (CM-108)</td>\n      <td>5840</td>\n      <td>231.0</td>\n      <td>22296</td>\n      <td>1452.0</td>\n    </tr>\n    <tr>\n      <th>3</th>\n      <td>Apollo15</td>\n      <td>75.39910</td>\n      <td>33.56547</td>\n      <td>Eagle (LM-5)</td>\n      <td>16430</td>\n      <td>-26.0</td>\n      <td>Columbia (CSM-107)</td>\n      <td>5875</td>\n      <td>35.0</td>\n      <td>22305</td>\n      <td>9.0</td>\n    </tr>\n    <tr>\n      <th>4</th>\n      <td>Apollo16</td>\n      <td>92.46262</td>\n      <td>17.06352</td>\n      <td>Orion (LM-11)</td>\n      <td>16445</td>\n      <td>15.0</td>\n      <td>America (CM-114)</td>\n      <td>5560</td>\n      <td>-315.0</td>\n      <td>22005</td>\n      <td>-300.0</td>\n    </tr>\n    <tr>\n      <th>5</th>\n      <td>Apollo17</td>\n      <td>109.44402</td>\n      <td>16.98140</td>\n      <td>Falcon (LM-10)</td>\n      <td>15103</td>\n      <td>-1342.0</td>\n      <td>Endeavor (CM-112)</td>\n      <td>5758</td>\n      <td>198.0</td>\n      <td>20861</td>\n      <td>-1144.0</td>\n    </tr>\n  </tbody>\n</table>\n</div>"
     },
     "metadata": {},
     "execution_count": 16
    }
   ],
   "source": [
    "missions['Total Mass (kg)'] = missions['LM Mass (kg)'] + missions['CM Mass (kg)']\n",
    "missions['Total Mass Diff (kg)'] = missions['LM Mass Diff'] + missions['CM Mass Diff']\n",
    "missions"
   ]
  },
  {
   "cell_type": "code",
   "execution_count": 17,
   "metadata": {},
   "outputs": [],
   "source": [
    "saturnVPayload = 43500\n",
    "missions['Crewed Area : Payload'] = missions['Total Mass (kg)']/saturnVPayload\n",
    "missions['Sample : Crewed Area'] = missions['Sample Weight(kg)']/missions['Total Mass (kg)']\n",
    "missions['Sample : Payload'] = missions['Sample Weight(kg)']/saturnVPayload\n"
   ]
  },
  {
   "cell_type": "code",
   "execution_count": 18,
   "metadata": {},
   "outputs": [
    {
     "output_type": "execute_result",
     "data": {
      "text/plain": [
       "    Mission  Sample Weight(kg)  Weight Diff   Lunar Module (LM)  LM Mass (kg)  \\\n",
       "0  Apollo11           21.55424      0.00000     Intrepid (LM-6)         15264   \n",
       "1  Apollo12           34.34238     12.78814  Challenger (LM-12)         15235   \n",
       "2  Apollo14           41.83363      7.49125      Antares (LM-8)         16456   \n",
       "3  Apollo15           75.39910     33.56547        Eagle (LM-5)         16430   \n",
       "4  Apollo16           92.46262     17.06352       Orion (LM-11)         16445   \n",
       "5  Apollo17          109.44402     16.98140      Falcon (LM-10)         15103   \n",
       "\n",
       "   LM Mass Diff      Command Module (CM)  CM Mass (kg)  CM Mass Diff  \\\n",
       "0           0.0      Kitty Hawk (CM-110)          5960           0.0   \n",
       "1         -29.0          Casper (CM-113)          5609        -351.0   \n",
       "2        1221.0  Yankee Clipper (CM-108)          5840         231.0   \n",
       "3         -26.0       Columbia (CSM-107)          5875          35.0   \n",
       "4          15.0         America (CM-114)          5560        -315.0   \n",
       "5       -1342.0        Endeavor (CM-112)          5758         198.0   \n",
       "\n",
       "   Total Mass (kg)  Total Mass Diff (kg)  Crewed Area : Payload  \\\n",
       "0            21224                   0.0               0.487908   \n",
       "1            20844                -380.0               0.479172   \n",
       "2            22296                1452.0               0.512552   \n",
       "3            22305                   9.0               0.512759   \n",
       "4            22005                -300.0               0.505862   \n",
       "5            20861               -1144.0               0.479563   \n",
       "\n",
       "   Sample : Crewed Area  Sample : Payload  \n",
       "0              0.001016          0.000495  \n",
       "1              0.001648          0.000789  \n",
       "2              0.001876          0.000962  \n",
       "3              0.003380          0.001733  \n",
       "4              0.004202          0.002126  \n",
       "5              0.005246          0.002516  "
      ],
      "text/html": "<div>\n<style scoped>\n    .dataframe tbody tr th:only-of-type {\n        vertical-align: middle;\n    }\n\n    .dataframe tbody tr th {\n        vertical-align: top;\n    }\n\n    .dataframe thead th {\n        text-align: right;\n    }\n</style>\n<table border=\"1\" class=\"dataframe\">\n  <thead>\n    <tr style=\"text-align: right;\">\n      <th></th>\n      <th>Mission</th>\n      <th>Sample Weight(kg)</th>\n      <th>Weight Diff</th>\n      <th>Lunar Module (LM)</th>\n      <th>LM Mass (kg)</th>\n      <th>LM Mass Diff</th>\n      <th>Command Module (CM)</th>\n      <th>CM Mass (kg)</th>\n      <th>CM Mass Diff</th>\n      <th>Total Mass (kg)</th>\n      <th>Total Mass Diff (kg)</th>\n      <th>Crewed Area : Payload</th>\n      <th>Sample : Crewed Area</th>\n      <th>Sample : Payload</th>\n    </tr>\n  </thead>\n  <tbody>\n    <tr>\n      <th>0</th>\n      <td>Apollo11</td>\n      <td>21.55424</td>\n      <td>0.00000</td>\n      <td>Intrepid (LM-6)</td>\n      <td>15264</td>\n      <td>0.0</td>\n      <td>Kitty Hawk (CM-110)</td>\n      <td>5960</td>\n      <td>0.0</td>\n      <td>21224</td>\n      <td>0.0</td>\n      <td>0.487908</td>\n      <td>0.001016</td>\n      <td>0.000495</td>\n    </tr>\n    <tr>\n      <th>1</th>\n      <td>Apollo12</td>\n      <td>34.34238</td>\n      <td>12.78814</td>\n      <td>Challenger (LM-12)</td>\n      <td>15235</td>\n      <td>-29.0</td>\n      <td>Casper (CM-113)</td>\n      <td>5609</td>\n      <td>-351.0</td>\n      <td>20844</td>\n      <td>-380.0</td>\n      <td>0.479172</td>\n      <td>0.001648</td>\n      <td>0.000789</td>\n    </tr>\n    <tr>\n      <th>2</th>\n      <td>Apollo14</td>\n      <td>41.83363</td>\n      <td>7.49125</td>\n      <td>Antares (LM-8)</td>\n      <td>16456</td>\n      <td>1221.0</td>\n      <td>Yankee Clipper (CM-108)</td>\n      <td>5840</td>\n      <td>231.0</td>\n      <td>22296</td>\n      <td>1452.0</td>\n      <td>0.512552</td>\n      <td>0.001876</td>\n      <td>0.000962</td>\n    </tr>\n    <tr>\n      <th>3</th>\n      <td>Apollo15</td>\n      <td>75.39910</td>\n      <td>33.56547</td>\n      <td>Eagle (LM-5)</td>\n      <td>16430</td>\n      <td>-26.0</td>\n      <td>Columbia (CSM-107)</td>\n      <td>5875</td>\n      <td>35.0</td>\n      <td>22305</td>\n      <td>9.0</td>\n      <td>0.512759</td>\n      <td>0.003380</td>\n      <td>0.001733</td>\n    </tr>\n    <tr>\n      <th>4</th>\n      <td>Apollo16</td>\n      <td>92.46262</td>\n      <td>17.06352</td>\n      <td>Orion (LM-11)</td>\n      <td>16445</td>\n      <td>15.0</td>\n      <td>America (CM-114)</td>\n      <td>5560</td>\n      <td>-315.0</td>\n      <td>22005</td>\n      <td>-300.0</td>\n      <td>0.505862</td>\n      <td>0.004202</td>\n      <td>0.002126</td>\n    </tr>\n    <tr>\n      <th>5</th>\n      <td>Apollo17</td>\n      <td>109.44402</td>\n      <td>16.98140</td>\n      <td>Falcon (LM-10)</td>\n      <td>15103</td>\n      <td>-1342.0</td>\n      <td>Endeavor (CM-112)</td>\n      <td>5758</td>\n      <td>198.0</td>\n      <td>20861</td>\n      <td>-1144.0</td>\n      <td>0.479563</td>\n      <td>0.005246</td>\n      <td>0.002516</td>\n    </tr>\n  </tbody>\n</table>\n</div>"
     },
     "metadata": {},
     "execution_count": 18
    }
   ],
   "source": [
    "missions"
   ]
  },
  {
   "cell_type": "code",
   "execution_count": 19,
   "metadata": {},
   "outputs": [
    {
     "output_type": "stream",
     "name": "stdout",
     "text": [
      "0.49630268199233724\n0.0028946732226251396\n0.0014369195019157093\n"
     ]
    }
   ],
   "source": [
    "crewedArea_payload_ratio = missions['Crewed Area : Payload'].mean()\n",
    "sample_crewedArea_ratio = missions['Sample : Crewed Area'].mean()\n",
    "sample_payload_ratio = missions['Sample : Payload'].mean()\n",
    "print(crewedArea_payload_ratio)\n",
    "print(sample_crewedArea_ratio)\n",
    "print(sample_payload_ratio)"
   ]
  },
  {
   "cell_type": "code",
   "execution_count": 20,
   "metadata": {},
   "outputs": [
    {
     "output_type": "execute_result",
     "data": {
      "text/plain": [
       "     Mission  Total Weight (kg)  Payload (kg)\n",
       "0   artemis1              26520         26988\n",
       "1  artemis1b              26520         37965\n",
       "2   artemis2              26520         42955"
      ],
      "text/html": "<div>\n<style scoped>\n    .dataframe tbody tr th:only-of-type {\n        vertical-align: middle;\n    }\n\n    .dataframe tbody tr th {\n        vertical-align: top;\n    }\n\n    .dataframe thead th {\n        text-align: right;\n    }\n</style>\n<table border=\"1\" class=\"dataframe\">\n  <thead>\n    <tr style=\"text-align: right;\">\n      <th></th>\n      <th>Mission</th>\n      <th>Total Weight (kg)</th>\n      <th>Payload (kg)</th>\n    </tr>\n  </thead>\n  <tbody>\n    <tr>\n      <th>0</th>\n      <td>artemis1</td>\n      <td>26520</td>\n      <td>26988</td>\n    </tr>\n    <tr>\n      <th>1</th>\n      <td>artemis1b</td>\n      <td>26520</td>\n      <td>37965</td>\n    </tr>\n    <tr>\n      <th>2</th>\n      <td>artemis2</td>\n      <td>26520</td>\n      <td>42955</td>\n    </tr>\n  </tbody>\n</table>\n</div>"
     },
     "metadata": {},
     "execution_count": 20
    }
   ],
   "source": [
    "artemis_crewedArea = 26520\n",
    "artemis_mission = pd.DataFrame({'Mission' : ['artemis1', 'artemis1b', 'artemis2'],\n",
    "                                'Total Weight (kg)' : [artemis_crewedArea, artemis_crewedArea, artemis_crewedArea],\n",
    "                                'Payload (kg)': [26988, 37965, 42955]})\n",
    "artemis_mission"
   ]
  },
  {
   "cell_type": "code",
   "execution_count": 21,
   "metadata": {},
   "outputs": [
    {
     "output_type": "execute_result",
     "data": {
      "text/plain": [
       "     Mission  Total Weight (kg)  Payload (kg)  Sample Weight from Total (kg)  \\\n",
       "0   artemis1              26520         26988                      76.766734   \n",
       "1  artemis1b              26520         37965                      76.766734   \n",
       "2   artemis2              26520         42955                      76.766734   \n",
       "\n",
       "   Sample Weight from Payload (kg)  \n",
       "0                        38.779584  \n",
       "1                        54.552649  \n",
       "2                        61.722877  "
      ],
      "text/html": "<div>\n<style scoped>\n    .dataframe tbody tr th:only-of-type {\n        vertical-align: middle;\n    }\n\n    .dataframe tbody tr th {\n        vertical-align: top;\n    }\n\n    .dataframe thead th {\n        text-align: right;\n    }\n</style>\n<table border=\"1\" class=\"dataframe\">\n  <thead>\n    <tr style=\"text-align: right;\">\n      <th></th>\n      <th>Mission</th>\n      <th>Total Weight (kg)</th>\n      <th>Payload (kg)</th>\n      <th>Sample Weight from Total (kg)</th>\n      <th>Sample Weight from Payload (kg)</th>\n    </tr>\n  </thead>\n  <tbody>\n    <tr>\n      <th>0</th>\n      <td>artemis1</td>\n      <td>26520</td>\n      <td>26988</td>\n      <td>76.766734</td>\n      <td>38.779584</td>\n    </tr>\n    <tr>\n      <th>1</th>\n      <td>artemis1b</td>\n      <td>26520</td>\n      <td>37965</td>\n      <td>76.766734</td>\n      <td>54.552649</td>\n    </tr>\n    <tr>\n      <th>2</th>\n      <td>artemis2</td>\n      <td>26520</td>\n      <td>42955</td>\n      <td>76.766734</td>\n      <td>61.722877</td>\n    </tr>\n  </tbody>\n</table>\n</div>"
     },
     "metadata": {},
     "execution_count": 21
    }
   ],
   "source": [
    "artemis_mission['Sample Weight from Total (kg)'] = artemis_mission['Total Weight (kg)'] * sample_crewedArea_ratio\n",
    "artemis_mission['Sample Weight from Payload (kg)'] = artemis_mission['Payload (kg)'] * sample_payload_ratio\n",
    "artemis_mission"
   ]
  },
  {
   "cell_type": "code",
   "execution_count": 22,
   "metadata": {},
   "outputs": [
    {
     "output_type": "execute_result",
     "data": {
      "text/plain": [
       "     Mission  Total Weight (kg)  Payload (kg)  Sample Weight from Total (kg)  \\\n",
       "0   artemis1              26520         26988                      76.766734   \n",
       "1  artemis1b              26520         37965                      76.766734   \n",
       "2   artemis2              26520         42955                      76.766734   \n",
       "\n",
       "   Sample Weight from Payload (kg)  Estimated Sample Weight (kg)  \n",
       "0                        38.779584                     57.773159  \n",
       "1                        54.552649                     65.659691  \n",
       "2                        61.722877                     69.244806  "
      ],
      "text/html": "<div>\n<style scoped>\n    .dataframe tbody tr th:only-of-type {\n        vertical-align: middle;\n    }\n\n    .dataframe tbody tr th {\n        vertical-align: top;\n    }\n\n    .dataframe thead th {\n        text-align: right;\n    }\n</style>\n<table border=\"1\" class=\"dataframe\">\n  <thead>\n    <tr style=\"text-align: right;\">\n      <th></th>\n      <th>Mission</th>\n      <th>Total Weight (kg)</th>\n      <th>Payload (kg)</th>\n      <th>Sample Weight from Total (kg)</th>\n      <th>Sample Weight from Payload (kg)</th>\n      <th>Estimated Sample Weight (kg)</th>\n    </tr>\n  </thead>\n  <tbody>\n    <tr>\n      <th>0</th>\n      <td>artemis1</td>\n      <td>26520</td>\n      <td>26988</td>\n      <td>76.766734</td>\n      <td>38.779584</td>\n      <td>57.773159</td>\n    </tr>\n    <tr>\n      <th>1</th>\n      <td>artemis1b</td>\n      <td>26520</td>\n      <td>37965</td>\n      <td>76.766734</td>\n      <td>54.552649</td>\n      <td>65.659691</td>\n    </tr>\n    <tr>\n      <th>2</th>\n      <td>artemis2</td>\n      <td>26520</td>\n      <td>42955</td>\n      <td>76.766734</td>\n      <td>61.722877</td>\n      <td>69.244806</td>\n    </tr>\n  </tbody>\n</table>\n</div>"
     },
     "metadata": {},
     "execution_count": 22
    }
   ],
   "source": [
    "artemis_mission['Estimated Sample Weight (kg)'] = (artemis_mission['Sample Weight from Payload (kg)'] + artemis_mission['Sample Weight from Total (kg)'])/2\n",
    "artemis_mission"
   ]
  },
  {
   "cell_type": "code",
   "execution_count": 23,
   "metadata": {},
   "outputs": [
    {
     "output_type": "execute_result",
     "data": {
      "text/plain": [
       "         ID   Mission     Type   Subtype  Weight(kg)  Pristine(%)\n",
       "0     10001  Apollo11     Soil  Unsieved     0.12580        88.36\n",
       "1     10002  Apollo11     Soil  Unsieved     5.62900        93.73\n",
       "2     10003  Apollo11   Basalt  Ilmenite     0.21300        65.56\n",
       "3     10004  Apollo11     Core  Unsieved     0.04480        71.76\n",
       "4     10005  Apollo11     Core  Unsieved     0.05340        40.31\n",
       "...     ...       ...      ...       ...         ...          ...\n",
       "2224  79528  Apollo17  Breccia  Regolith     0.00238       100.00\n",
       "2225  79529  Apollo17  Breccia  Regolith     0.00184       100.00\n",
       "2226  79535  Apollo17  Breccia  Regolith     0.00169       100.00\n",
       "2227  79536  Apollo17  Breccia  Regolith     0.00166       100.00\n",
       "2228  79537  Apollo17  Breccia  Regolith     0.00105       100.00\n",
       "\n",
       "[2229 rows x 6 columns]"
      ],
      "text/html": "<div>\n<style scoped>\n    .dataframe tbody tr th:only-of-type {\n        vertical-align: middle;\n    }\n\n    .dataframe tbody tr th {\n        vertical-align: top;\n    }\n\n    .dataframe thead th {\n        text-align: right;\n    }\n</style>\n<table border=\"1\" class=\"dataframe\">\n  <thead>\n    <tr style=\"text-align: right;\">\n      <th></th>\n      <th>ID</th>\n      <th>Mission</th>\n      <th>Type</th>\n      <th>Subtype</th>\n      <th>Weight(kg)</th>\n      <th>Pristine(%)</th>\n    </tr>\n  </thead>\n  <tbody>\n    <tr>\n      <th>0</th>\n      <td>10001</td>\n      <td>Apollo11</td>\n      <td>Soil</td>\n      <td>Unsieved</td>\n      <td>0.12580</td>\n      <td>88.36</td>\n    </tr>\n    <tr>\n      <th>1</th>\n      <td>10002</td>\n      <td>Apollo11</td>\n      <td>Soil</td>\n      <td>Unsieved</td>\n      <td>5.62900</td>\n      <td>93.73</td>\n    </tr>\n    <tr>\n      <th>2</th>\n      <td>10003</td>\n      <td>Apollo11</td>\n      <td>Basalt</td>\n      <td>Ilmenite</td>\n      <td>0.21300</td>\n      <td>65.56</td>\n    </tr>\n    <tr>\n      <th>3</th>\n      <td>10004</td>\n      <td>Apollo11</td>\n      <td>Core</td>\n      <td>Unsieved</td>\n      <td>0.04480</td>\n      <td>71.76</td>\n    </tr>\n    <tr>\n      <th>4</th>\n      <td>10005</td>\n      <td>Apollo11</td>\n      <td>Core</td>\n      <td>Unsieved</td>\n      <td>0.05340</td>\n      <td>40.31</td>\n    </tr>\n    <tr>\n      <th>...</th>\n      <td>...</td>\n      <td>...</td>\n      <td>...</td>\n      <td>...</td>\n      <td>...</td>\n      <td>...</td>\n    </tr>\n    <tr>\n      <th>2224</th>\n      <td>79528</td>\n      <td>Apollo17</td>\n      <td>Breccia</td>\n      <td>Regolith</td>\n      <td>0.00238</td>\n      <td>100.00</td>\n    </tr>\n    <tr>\n      <th>2225</th>\n      <td>79529</td>\n      <td>Apollo17</td>\n      <td>Breccia</td>\n      <td>Regolith</td>\n      <td>0.00184</td>\n      <td>100.00</td>\n    </tr>\n    <tr>\n      <th>2226</th>\n      <td>79535</td>\n      <td>Apollo17</td>\n      <td>Breccia</td>\n      <td>Regolith</td>\n      <td>0.00169</td>\n      <td>100.00</td>\n    </tr>\n    <tr>\n      <th>2227</th>\n      <td>79536</td>\n      <td>Apollo17</td>\n      <td>Breccia</td>\n      <td>Regolith</td>\n      <td>0.00166</td>\n      <td>100.00</td>\n    </tr>\n    <tr>\n      <th>2228</th>\n      <td>79537</td>\n      <td>Apollo17</td>\n      <td>Breccia</td>\n      <td>Regolith</td>\n      <td>0.00105</td>\n      <td>100.00</td>\n    </tr>\n  </tbody>\n</table>\n<p>2229 rows × 6 columns</p>\n</div>"
     },
     "metadata": {},
     "execution_count": 23
    }
   ],
   "source": [
    "rock_samples"
   ]
  },
  {
   "cell_type": "code",
   "execution_count": 24,
   "metadata": {},
   "outputs": [
    {
     "output_type": "execute_result",
     "data": {
      "text/plain": [
       "                 ID   Weight(kg)  Pristine(%)  Remaining(kg)\n",
       "count   2229.000000  2229.000000  2229.000000    2229.000000\n",
       "mean   52058.432032     0.168253    84.512764       0.138103\n",
       "std    26207.651471     0.637286    22.057299       0.525954\n",
       "min    10001.000000     0.000000     0.000000       0.000000\n",
       "25%    15437.000000     0.003000    80.010000       0.002432\n",
       "50%    65527.000000     0.010200    92.300000       0.008530\n",
       "75%    72142.000000     0.093490    98.140000       0.078240\n",
       "max    79537.000000    11.729000   180.000000      11.169527"
      ],
      "text/html": "<div>\n<style scoped>\n    .dataframe tbody tr th:only-of-type {\n        vertical-align: middle;\n    }\n\n    .dataframe tbody tr th {\n        vertical-align: top;\n    }\n\n    .dataframe thead th {\n        text-align: right;\n    }\n</style>\n<table border=\"1\" class=\"dataframe\">\n  <thead>\n    <tr style=\"text-align: right;\">\n      <th></th>\n      <th>ID</th>\n      <th>Weight(kg)</th>\n      <th>Pristine(%)</th>\n      <th>Remaining(kg)</th>\n    </tr>\n  </thead>\n  <tbody>\n    <tr>\n      <th>count</th>\n      <td>2229.000000</td>\n      <td>2229.000000</td>\n      <td>2229.000000</td>\n      <td>2229.000000</td>\n    </tr>\n    <tr>\n      <th>mean</th>\n      <td>52058.432032</td>\n      <td>0.168253</td>\n      <td>84.512764</td>\n      <td>0.138103</td>\n    </tr>\n    <tr>\n      <th>std</th>\n      <td>26207.651471</td>\n      <td>0.637286</td>\n      <td>22.057299</td>\n      <td>0.525954</td>\n    </tr>\n    <tr>\n      <th>min</th>\n      <td>10001.000000</td>\n      <td>0.000000</td>\n      <td>0.000000</td>\n      <td>0.000000</td>\n    </tr>\n    <tr>\n      <th>25%</th>\n      <td>15437.000000</td>\n      <td>0.003000</td>\n      <td>80.010000</td>\n      <td>0.002432</td>\n    </tr>\n    <tr>\n      <th>50%</th>\n      <td>65527.000000</td>\n      <td>0.010200</td>\n      <td>92.300000</td>\n      <td>0.008530</td>\n    </tr>\n    <tr>\n      <th>75%</th>\n      <td>72142.000000</td>\n      <td>0.093490</td>\n      <td>98.140000</td>\n      <td>0.078240</td>\n    </tr>\n    <tr>\n      <th>max</th>\n      <td>79537.000000</td>\n      <td>11.729000</td>\n      <td>180.000000</td>\n      <td>11.169527</td>\n    </tr>\n  </tbody>\n</table>\n</div>"
     },
     "metadata": {},
     "execution_count": 24
    }
   ],
   "source": [
    "rock_samples['Remaining(kg)'] = rock_samples['Weight(kg)'] * (rock_samples['Pristine(%)'] * 0.01)\n",
    "rock_samples.describe()"
   ]
  },
  {
   "cell_type": "code",
   "execution_count": 25,
   "metadata": {},
   "outputs": [
    {
     "output_type": "execute_result",
     "data": {
      "text/plain": [
       "         ID   Mission     Type      Subtype  Weight(kg)  Pristine(%)  \\\n",
       "11    10017  Apollo11   Basalt     Ilmenite      0.9730        43.71   \n",
       "14    10020  Apollo11   Basalt     Ilmenite      0.4250        27.88   \n",
       "15    10021  Apollo11  Breccia     Regolith      0.2500        30.21   \n",
       "29    10045  Apollo11   Basalt      Olivine      0.1850        12.13   \n",
       "37    10057  Apollo11   Basalt     Ilmenite      0.9190        35.15   \n",
       "39    10059  Apollo11  Breccia     Regolith      0.1880        36.94   \n",
       "52    10072  Apollo11   Basalt     Ilmenite      0.4470        15.22   \n",
       "59    10086  Apollo11     Soil     Unsieved      0.8230         0.01   \n",
       "68    12002  Apollo12   Basalt      Olivine      1.5300        49.04   \n",
       "69    12003  Apollo12     Soil     Unsieved      0.3000        28.52   \n",
       "72    12006  Apollo12   Basalt      Olivine      0.2064         0.53   \n",
       "94    12028  Apollo12     Core     Unsieved      0.1896        27.56   \n",
       "113   12047  Apollo12   Basalt     Ilmenite      0.1930        33.70   \n",
       "118   12053  Apollo12   Basalt    Pigeonite      0.8790        46.43   \n",
       "120   12055  Apollo12   Basalt    Pigeonite      0.9120        26.00   \n",
       "353   15012  Apollo15     Soil     Unsieved      0.3122         5.77   \n",
       "354   15013  Apollo15     Soil     Unsieved      0.2962         8.80   \n",
       "426   15205  Apollo15  Breccia     Regolith      0.3373        24.70   \n",
       "534   15405  Apollo15  Breccia   ImpactMelt      0.5131        35.91   \n",
       "570   15475  Apollo15   Basalt    Pigeonite      0.4068        49.60   \n",
       "575   15498  Apollo15  Breccia     Regolith      2.3400        34.11   \n",
       "607   15555  Apollo15   Basalt      Olivine      9.6140        46.61   \n",
       "718   60016  Apollo16  Breccia   Fragmental      4.3070        49.57   \n",
       "722   60025  Apollo16  Breccia  Anorthosite      1.8360        43.61   \n",
       "1221  66075  Apollo16  Breccia   Fragmental      0.3471        32.97   \n",
       "1645  71566  Apollo17   Basalt     Ilmenite      0.4144        45.06   \n",
       "2183  79155  Apollo17   Basalt     Ilmenite      0.3188        25.97   \n",
       "\n",
       "      Remaining(kg)  \n",
       "11         0.425298  \n",
       "14         0.118490  \n",
       "15         0.075525  \n",
       "29         0.022441  \n",
       "37         0.323028  \n",
       "39         0.069447  \n",
       "52         0.068033  \n",
       "59         0.000082  \n",
       "68         0.750312  \n",
       "69         0.085560  \n",
       "72         0.001094  \n",
       "94         0.052254  \n",
       "113        0.065041  \n",
       "118        0.408120  \n",
       "120        0.237120  \n",
       "353        0.018014  \n",
       "354        0.026066  \n",
       "426        0.083313  \n",
       "534        0.184254  \n",
       "570        0.201773  \n",
       "575        0.798174  \n",
       "607        4.481085  \n",
       "718        2.134980  \n",
       "722        0.800680  \n",
       "1221       0.114439  \n",
       "1645       0.186729  \n",
       "2183       0.082792  "
      ],
      "text/html": "<div>\n<style scoped>\n    .dataframe tbody tr th:only-of-type {\n        vertical-align: middle;\n    }\n\n    .dataframe tbody tr th {\n        vertical-align: top;\n    }\n\n    .dataframe thead th {\n        text-align: right;\n    }\n</style>\n<table border=\"1\" class=\"dataframe\">\n  <thead>\n    <tr style=\"text-align: right;\">\n      <th></th>\n      <th>ID</th>\n      <th>Mission</th>\n      <th>Type</th>\n      <th>Subtype</th>\n      <th>Weight(kg)</th>\n      <th>Pristine(%)</th>\n      <th>Remaining(kg)</th>\n    </tr>\n  </thead>\n  <tbody>\n    <tr>\n      <th>11</th>\n      <td>10017</td>\n      <td>Apollo11</td>\n      <td>Basalt</td>\n      <td>Ilmenite</td>\n      <td>0.9730</td>\n      <td>43.71</td>\n      <td>0.425298</td>\n    </tr>\n    <tr>\n      <th>14</th>\n      <td>10020</td>\n      <td>Apollo11</td>\n      <td>Basalt</td>\n      <td>Ilmenite</td>\n      <td>0.4250</td>\n      <td>27.88</td>\n      <td>0.118490</td>\n    </tr>\n    <tr>\n      <th>15</th>\n      <td>10021</td>\n      <td>Apollo11</td>\n      <td>Breccia</td>\n      <td>Regolith</td>\n      <td>0.2500</td>\n      <td>30.21</td>\n      <td>0.075525</td>\n    </tr>\n    <tr>\n      <th>29</th>\n      <td>10045</td>\n      <td>Apollo11</td>\n      <td>Basalt</td>\n      <td>Olivine</td>\n      <td>0.1850</td>\n      <td>12.13</td>\n      <td>0.022441</td>\n    </tr>\n    <tr>\n      <th>37</th>\n      <td>10057</td>\n      <td>Apollo11</td>\n      <td>Basalt</td>\n      <td>Ilmenite</td>\n      <td>0.9190</td>\n      <td>35.15</td>\n      <td>0.323028</td>\n    </tr>\n    <tr>\n      <th>39</th>\n      <td>10059</td>\n      <td>Apollo11</td>\n      <td>Breccia</td>\n      <td>Regolith</td>\n      <td>0.1880</td>\n      <td>36.94</td>\n      <td>0.069447</td>\n    </tr>\n    <tr>\n      <th>52</th>\n      <td>10072</td>\n      <td>Apollo11</td>\n      <td>Basalt</td>\n      <td>Ilmenite</td>\n      <td>0.4470</td>\n      <td>15.22</td>\n      <td>0.068033</td>\n    </tr>\n    <tr>\n      <th>59</th>\n      <td>10086</td>\n      <td>Apollo11</td>\n      <td>Soil</td>\n      <td>Unsieved</td>\n      <td>0.8230</td>\n      <td>0.01</td>\n      <td>0.000082</td>\n    </tr>\n    <tr>\n      <th>68</th>\n      <td>12002</td>\n      <td>Apollo12</td>\n      <td>Basalt</td>\n      <td>Olivine</td>\n      <td>1.5300</td>\n      <td>49.04</td>\n      <td>0.750312</td>\n    </tr>\n    <tr>\n      <th>69</th>\n      <td>12003</td>\n      <td>Apollo12</td>\n      <td>Soil</td>\n      <td>Unsieved</td>\n      <td>0.3000</td>\n      <td>28.52</td>\n      <td>0.085560</td>\n    </tr>\n    <tr>\n      <th>72</th>\n      <td>12006</td>\n      <td>Apollo12</td>\n      <td>Basalt</td>\n      <td>Olivine</td>\n      <td>0.2064</td>\n      <td>0.53</td>\n      <td>0.001094</td>\n    </tr>\n    <tr>\n      <th>94</th>\n      <td>12028</td>\n      <td>Apollo12</td>\n      <td>Core</td>\n      <td>Unsieved</td>\n      <td>0.1896</td>\n      <td>27.56</td>\n      <td>0.052254</td>\n    </tr>\n    <tr>\n      <th>113</th>\n      <td>12047</td>\n      <td>Apollo12</td>\n      <td>Basalt</td>\n      <td>Ilmenite</td>\n      <td>0.1930</td>\n      <td>33.70</td>\n      <td>0.065041</td>\n    </tr>\n    <tr>\n      <th>118</th>\n      <td>12053</td>\n      <td>Apollo12</td>\n      <td>Basalt</td>\n      <td>Pigeonite</td>\n      <td>0.8790</td>\n      <td>46.43</td>\n      <td>0.408120</td>\n    </tr>\n    <tr>\n      <th>120</th>\n      <td>12055</td>\n      <td>Apollo12</td>\n      <td>Basalt</td>\n      <td>Pigeonite</td>\n      <td>0.9120</td>\n      <td>26.00</td>\n      <td>0.237120</td>\n    </tr>\n    <tr>\n      <th>353</th>\n      <td>15012</td>\n      <td>Apollo15</td>\n      <td>Soil</td>\n      <td>Unsieved</td>\n      <td>0.3122</td>\n      <td>5.77</td>\n      <td>0.018014</td>\n    </tr>\n    <tr>\n      <th>354</th>\n      <td>15013</td>\n      <td>Apollo15</td>\n      <td>Soil</td>\n      <td>Unsieved</td>\n      <td>0.2962</td>\n      <td>8.80</td>\n      <td>0.026066</td>\n    </tr>\n    <tr>\n      <th>426</th>\n      <td>15205</td>\n      <td>Apollo15</td>\n      <td>Breccia</td>\n      <td>Regolith</td>\n      <td>0.3373</td>\n      <td>24.70</td>\n      <td>0.083313</td>\n    </tr>\n    <tr>\n      <th>534</th>\n      <td>15405</td>\n      <td>Apollo15</td>\n      <td>Breccia</td>\n      <td>ImpactMelt</td>\n      <td>0.5131</td>\n      <td>35.91</td>\n      <td>0.184254</td>\n    </tr>\n    <tr>\n      <th>570</th>\n      <td>15475</td>\n      <td>Apollo15</td>\n      <td>Basalt</td>\n      <td>Pigeonite</td>\n      <td>0.4068</td>\n      <td>49.60</td>\n      <td>0.201773</td>\n    </tr>\n    <tr>\n      <th>575</th>\n      <td>15498</td>\n      <td>Apollo15</td>\n      <td>Breccia</td>\n      <td>Regolith</td>\n      <td>2.3400</td>\n      <td>34.11</td>\n      <td>0.798174</td>\n    </tr>\n    <tr>\n      <th>607</th>\n      <td>15555</td>\n      <td>Apollo15</td>\n      <td>Basalt</td>\n      <td>Olivine</td>\n      <td>9.6140</td>\n      <td>46.61</td>\n      <td>4.481085</td>\n    </tr>\n    <tr>\n      <th>718</th>\n      <td>60016</td>\n      <td>Apollo16</td>\n      <td>Breccia</td>\n      <td>Fragmental</td>\n      <td>4.3070</td>\n      <td>49.57</td>\n      <td>2.134980</td>\n    </tr>\n    <tr>\n      <th>722</th>\n      <td>60025</td>\n      <td>Apollo16</td>\n      <td>Breccia</td>\n      <td>Anorthosite</td>\n      <td>1.8360</td>\n      <td>43.61</td>\n      <td>0.800680</td>\n    </tr>\n    <tr>\n      <th>1221</th>\n      <td>66075</td>\n      <td>Apollo16</td>\n      <td>Breccia</td>\n      <td>Fragmental</td>\n      <td>0.3471</td>\n      <td>32.97</td>\n      <td>0.114439</td>\n    </tr>\n    <tr>\n      <th>1645</th>\n      <td>71566</td>\n      <td>Apollo17</td>\n      <td>Basalt</td>\n      <td>Ilmenite</td>\n      <td>0.4144</td>\n      <td>45.06</td>\n      <td>0.186729</td>\n    </tr>\n    <tr>\n      <th>2183</th>\n      <td>79155</td>\n      <td>Apollo17</td>\n      <td>Basalt</td>\n      <td>Ilmenite</td>\n      <td>0.3188</td>\n      <td>25.97</td>\n      <td>0.082792</td>\n    </tr>\n  </tbody>\n</table>\n</div>"
     },
     "metadata": {},
     "execution_count": 25
    }
   ],
   "source": [
    "low_samples = rock_samples.loc[ (rock_samples['Weight(kg)'] >= 0.16) & (rock_samples['Pristine(%)'] <= 50) ]\n",
    "low_samples"
   ]
  },
  {
   "cell_type": "code",
   "execution_count": 26,
   "metadata": {},
   "outputs": [
    {
     "output_type": "stream",
     "name": "stdout",
     "text": [
      "<class 'pandas.core.frame.DataFrame'>\nInt64Index: 27 entries, 11 to 2183\nData columns (total 7 columns):\n #   Column         Non-Null Count  Dtype  \n---  ------         --------------  -----  \n 0   ID             27 non-null     int64  \n 1   Mission        27 non-null     object \n 2   Type           27 non-null     object \n 3   Subtype        27 non-null     object \n 4   Weight(kg)     27 non-null     float64\n 5   Pristine(%)    27 non-null     float64\n 6   Remaining(kg)  27 non-null     float64\ndtypes: float64(3), int64(1), object(3)\nmemory usage: 1.7+ KB\n"
     ]
    }
   ],
   "source": [
    "low_samples.info()"
   ]
  },
  {
   "cell_type": "code",
   "execution_count": 27,
   "metadata": {},
   "outputs": [
    {
     "output_type": "execute_result",
     "data": {
      "text/plain": [
       "array(['Basalt', 'Breccia', 'Soil', 'Core'], dtype=object)"
      ]
     },
     "metadata": {},
     "execution_count": 27
    }
   ],
   "source": [
    "low_samples.Type.unique()"
   ]
  },
  {
   "cell_type": "code",
   "execution_count": 28,
   "metadata": {},
   "outputs": [
    {
     "output_type": "execute_result",
     "data": {
      "text/plain": [
       "array(['Soil', 'Basalt', 'Core', 'Breccia', 'Special', 'Crustal'],\n",
       "      dtype=object)"
      ]
     },
     "metadata": {},
     "execution_count": 28
    }
   ],
   "source": [
    "rock_samples.Type.unique()"
   ]
  },
  {
   "cell_type": "code",
   "execution_count": 29,
   "metadata": {},
   "outputs": [
    {
     "output_type": "execute_result",
     "data": {
      "text/plain": [
       "Type\n",
       "Basalt     14\n",
       "Breccia     8\n",
       "Core        1\n",
       "Soil        4\n",
       "Name: Weight(kg), dtype: int64"
      ]
     },
     "metadata": {},
     "execution_count": 29
    }
   ],
   "source": [
    "low_samples.groupby('Type')['Weight(kg)'].count()"
   ]
  },
  {
   "cell_type": "code",
   "execution_count": 30,
   "metadata": {},
   "outputs": [
    {
     "output_type": "execute_result",
     "data": {
      "text/plain": [
       "         ID   Mission     Type      Subtype  Weight(kg)  Pristine(%)  \\\n",
       "11    10017  Apollo11   Basalt     Ilmenite      0.9730        43.71   \n",
       "14    10020  Apollo11   Basalt     Ilmenite      0.4250        27.88   \n",
       "15    10021  Apollo11  Breccia     Regolith      0.2500        30.21   \n",
       "29    10045  Apollo11   Basalt      Olivine      0.1850        12.13   \n",
       "37    10057  Apollo11   Basalt     Ilmenite      0.9190        35.15   \n",
       "39    10059  Apollo11  Breccia     Regolith      0.1880        36.94   \n",
       "52    10072  Apollo11   Basalt     Ilmenite      0.4470        15.22   \n",
       "68    12002  Apollo12   Basalt      Olivine      1.5300        49.04   \n",
       "72    12006  Apollo12   Basalt      Olivine      0.2064         0.53   \n",
       "113   12047  Apollo12   Basalt     Ilmenite      0.1930        33.70   \n",
       "118   12053  Apollo12   Basalt    Pigeonite      0.8790        46.43   \n",
       "120   12055  Apollo12   Basalt    Pigeonite      0.9120        26.00   \n",
       "426   15205  Apollo15  Breccia     Regolith      0.3373        24.70   \n",
       "534   15405  Apollo15  Breccia   ImpactMelt      0.5131        35.91   \n",
       "570   15475  Apollo15   Basalt    Pigeonite      0.4068        49.60   \n",
       "575   15498  Apollo15  Breccia     Regolith      2.3400        34.11   \n",
       "607   15555  Apollo15   Basalt      Olivine      9.6140        46.61   \n",
       "718   60016  Apollo16  Breccia   Fragmental      4.3070        49.57   \n",
       "722   60025  Apollo16  Breccia  Anorthosite      1.8360        43.61   \n",
       "1221  66075  Apollo16  Breccia   Fragmental      0.3471        32.97   \n",
       "1645  71566  Apollo17   Basalt     Ilmenite      0.4144        45.06   \n",
       "2183  79155  Apollo17   Basalt     Ilmenite      0.3188        25.97   \n",
       "\n",
       "      Remaining(kg)  \n",
       "11         0.425298  \n",
       "14         0.118490  \n",
       "15         0.075525  \n",
       "29         0.022441  \n",
       "37         0.323028  \n",
       "39         0.069447  \n",
       "52         0.068033  \n",
       "68         0.750312  \n",
       "72         0.001094  \n",
       "113        0.065041  \n",
       "118        0.408120  \n",
       "120        0.237120  \n",
       "426        0.083313  \n",
       "534        0.184254  \n",
       "570        0.201773  \n",
       "575        0.798174  \n",
       "607        4.481085  \n",
       "718        2.134980  \n",
       "722        0.800680  \n",
       "1221       0.114439  \n",
       "1645       0.186729  \n",
       "2183       0.082792  "
      ],
      "text/html": "<div>\n<style scoped>\n    .dataframe tbody tr th:only-of-type {\n        vertical-align: middle;\n    }\n\n    .dataframe tbody tr th {\n        vertical-align: top;\n    }\n\n    .dataframe thead th {\n        text-align: right;\n    }\n</style>\n<table border=\"1\" class=\"dataframe\">\n  <thead>\n    <tr style=\"text-align: right;\">\n      <th></th>\n      <th>ID</th>\n      <th>Mission</th>\n      <th>Type</th>\n      <th>Subtype</th>\n      <th>Weight(kg)</th>\n      <th>Pristine(%)</th>\n      <th>Remaining(kg)</th>\n    </tr>\n  </thead>\n  <tbody>\n    <tr>\n      <th>11</th>\n      <td>10017</td>\n      <td>Apollo11</td>\n      <td>Basalt</td>\n      <td>Ilmenite</td>\n      <td>0.9730</td>\n      <td>43.71</td>\n      <td>0.425298</td>\n    </tr>\n    <tr>\n      <th>14</th>\n      <td>10020</td>\n      <td>Apollo11</td>\n      <td>Basalt</td>\n      <td>Ilmenite</td>\n      <td>0.4250</td>\n      <td>27.88</td>\n      <td>0.118490</td>\n    </tr>\n    <tr>\n      <th>15</th>\n      <td>10021</td>\n      <td>Apollo11</td>\n      <td>Breccia</td>\n      <td>Regolith</td>\n      <td>0.2500</td>\n      <td>30.21</td>\n      <td>0.075525</td>\n    </tr>\n    <tr>\n      <th>29</th>\n      <td>10045</td>\n      <td>Apollo11</td>\n      <td>Basalt</td>\n      <td>Olivine</td>\n      <td>0.1850</td>\n      <td>12.13</td>\n      <td>0.022441</td>\n    </tr>\n    <tr>\n      <th>37</th>\n      <td>10057</td>\n      <td>Apollo11</td>\n      <td>Basalt</td>\n      <td>Ilmenite</td>\n      <td>0.9190</td>\n      <td>35.15</td>\n      <td>0.323028</td>\n    </tr>\n    <tr>\n      <th>39</th>\n      <td>10059</td>\n      <td>Apollo11</td>\n      <td>Breccia</td>\n      <td>Regolith</td>\n      <td>0.1880</td>\n      <td>36.94</td>\n      <td>0.069447</td>\n    </tr>\n    <tr>\n      <th>52</th>\n      <td>10072</td>\n      <td>Apollo11</td>\n      <td>Basalt</td>\n      <td>Ilmenite</td>\n      <td>0.4470</td>\n      <td>15.22</td>\n      <td>0.068033</td>\n    </tr>\n    <tr>\n      <th>68</th>\n      <td>12002</td>\n      <td>Apollo12</td>\n      <td>Basalt</td>\n      <td>Olivine</td>\n      <td>1.5300</td>\n      <td>49.04</td>\n      <td>0.750312</td>\n    </tr>\n    <tr>\n      <th>72</th>\n      <td>12006</td>\n      <td>Apollo12</td>\n      <td>Basalt</td>\n      <td>Olivine</td>\n      <td>0.2064</td>\n      <td>0.53</td>\n      <td>0.001094</td>\n    </tr>\n    <tr>\n      <th>113</th>\n      <td>12047</td>\n      <td>Apollo12</td>\n      <td>Basalt</td>\n      <td>Ilmenite</td>\n      <td>0.1930</td>\n      <td>33.70</td>\n      <td>0.065041</td>\n    </tr>\n    <tr>\n      <th>118</th>\n      <td>12053</td>\n      <td>Apollo12</td>\n      <td>Basalt</td>\n      <td>Pigeonite</td>\n      <td>0.8790</td>\n      <td>46.43</td>\n      <td>0.408120</td>\n    </tr>\n    <tr>\n      <th>120</th>\n      <td>12055</td>\n      <td>Apollo12</td>\n      <td>Basalt</td>\n      <td>Pigeonite</td>\n      <td>0.9120</td>\n      <td>26.00</td>\n      <td>0.237120</td>\n    </tr>\n    <tr>\n      <th>426</th>\n      <td>15205</td>\n      <td>Apollo15</td>\n      <td>Breccia</td>\n      <td>Regolith</td>\n      <td>0.3373</td>\n      <td>24.70</td>\n      <td>0.083313</td>\n    </tr>\n    <tr>\n      <th>534</th>\n      <td>15405</td>\n      <td>Apollo15</td>\n      <td>Breccia</td>\n      <td>ImpactMelt</td>\n      <td>0.5131</td>\n      <td>35.91</td>\n      <td>0.184254</td>\n    </tr>\n    <tr>\n      <th>570</th>\n      <td>15475</td>\n      <td>Apollo15</td>\n      <td>Basalt</td>\n      <td>Pigeonite</td>\n      <td>0.4068</td>\n      <td>49.60</td>\n      <td>0.201773</td>\n    </tr>\n    <tr>\n      <th>575</th>\n      <td>15498</td>\n      <td>Apollo15</td>\n      <td>Breccia</td>\n      <td>Regolith</td>\n      <td>2.3400</td>\n      <td>34.11</td>\n      <td>0.798174</td>\n    </tr>\n    <tr>\n      <th>607</th>\n      <td>15555</td>\n      <td>Apollo15</td>\n      <td>Basalt</td>\n      <td>Olivine</td>\n      <td>9.6140</td>\n      <td>46.61</td>\n      <td>4.481085</td>\n    </tr>\n    <tr>\n      <th>718</th>\n      <td>60016</td>\n      <td>Apollo16</td>\n      <td>Breccia</td>\n      <td>Fragmental</td>\n      <td>4.3070</td>\n      <td>49.57</td>\n      <td>2.134980</td>\n    </tr>\n    <tr>\n      <th>722</th>\n      <td>60025</td>\n      <td>Apollo16</td>\n      <td>Breccia</td>\n      <td>Anorthosite</td>\n      <td>1.8360</td>\n      <td>43.61</td>\n      <td>0.800680</td>\n    </tr>\n    <tr>\n      <th>1221</th>\n      <td>66075</td>\n      <td>Apollo16</td>\n      <td>Breccia</td>\n      <td>Fragmental</td>\n      <td>0.3471</td>\n      <td>32.97</td>\n      <td>0.114439</td>\n    </tr>\n    <tr>\n      <th>1645</th>\n      <td>71566</td>\n      <td>Apollo17</td>\n      <td>Basalt</td>\n      <td>Ilmenite</td>\n      <td>0.4144</td>\n      <td>45.06</td>\n      <td>0.186729</td>\n    </tr>\n    <tr>\n      <th>2183</th>\n      <td>79155</td>\n      <td>Apollo17</td>\n      <td>Basalt</td>\n      <td>Ilmenite</td>\n      <td>0.3188</td>\n      <td>25.97</td>\n      <td>0.082792</td>\n    </tr>\n  </tbody>\n</table>\n</div>"
     },
     "metadata": {},
     "execution_count": 30
    }
   ],
   "source": [
    "needed_samples = low_samples[low_samples['Type'].isin(['Basalt', 'Breccia'])]\n",
    "needed_samples"
   ]
  },
  {
   "cell_type": "code",
   "execution_count": 31,
   "metadata": {},
   "outputs": [
    {
     "output_type": "stream",
     "name": "stdout",
     "text": [
      "<class 'pandas.core.frame.DataFrame'>\nInt64Index: 22 entries, 11 to 2183\nData columns (total 7 columns):\n #   Column         Non-Null Count  Dtype  \n---  ------         --------------  -----  \n 0   ID             22 non-null     int64  \n 1   Mission        22 non-null     object \n 2   Type           22 non-null     object \n 3   Subtype        22 non-null     object \n 4   Weight(kg)     22 non-null     float64\n 5   Pristine(%)    22 non-null     float64\n 6   Remaining(kg)  22 non-null     float64\ndtypes: float64(3), int64(1), object(3)\nmemory usage: 1.4+ KB\n"
     ]
    }
   ],
   "source": [
    "needed_samples.info()"
   ]
  },
  {
   "cell_type": "code",
   "execution_count": 32,
   "metadata": {},
   "outputs": [
    {
     "output_type": "execute_result",
     "data": {
      "text/plain": [
       "Type\n",
       "Basalt     17.4234\n",
       "Breccia    10.1185\n",
       "Name: Weight(kg), dtype: float64"
      ]
     },
     "metadata": {},
     "execution_count": 32
    }
   ],
   "source": [
    "needed_samples.groupby('Type')['Weight(kg)'].sum()"
   ]
  },
  {
   "cell_type": "code",
   "execution_count": 33,
   "metadata": {},
   "outputs": [
    {
     "output_type": "execute_result",
     "data": {
      "text/plain": [
       "Type\n",
       "Basalt      93.14077\n",
       "Breccia    168.88075\n",
       "Core        19.93587\n",
       "Crustal      4.74469\n",
       "Soil        87.58981\n",
       "Special      0.74410\n",
       "Name: Weight(kg), dtype: float64"
      ]
     },
     "metadata": {},
     "execution_count": 33
    }
   ],
   "source": [
    "rock_samples.groupby('Type')['Weight(kg)'].sum()"
   ]
  },
  {
   "cell_type": "code",
   "execution_count": 34,
   "metadata": {},
   "outputs": [],
   "source": [
    "needed_samples = needed_samples.append(rock_samples.loc[rock_samples['Type'].isin(['Crustal'])])"
   ]
  },
  {
   "cell_type": "code",
   "execution_count": 35,
   "metadata": {},
   "outputs": [
    {
     "output_type": "stream",
     "name": "stdout",
     "text": [
      "<class 'pandas.core.frame.DataFrame'>\nInt64Index: 68 entries, 11 to 2189\nData columns (total 7 columns):\n #   Column         Non-Null Count  Dtype  \n---  ------         --------------  -----  \n 0   ID             68 non-null     int64  \n 1   Mission        68 non-null     object \n 2   Type           68 non-null     object \n 3   Subtype        68 non-null     object \n 4   Weight(kg)     68 non-null     float64\n 5   Pristine(%)    68 non-null     float64\n 6   Remaining(kg)  68 non-null     float64\ndtypes: float64(3), int64(1), object(3)\nmemory usage: 4.2+ KB\n"
     ]
    }
   ],
   "source": [
    "needed_samples.info()"
   ]
  },
  {
   "cell_type": "code",
   "execution_count": 36,
   "metadata": {},
   "outputs": [
    {
     "output_type": "execute_result",
     "data": {
      "text/plain": [
       "      Type\n",
       "0   Basalt\n",
       "1  Breccia\n",
       "2  Crustal"
      ],
      "text/html": "<div>\n<style scoped>\n    .dataframe tbody tr th:only-of-type {\n        vertical-align: middle;\n    }\n\n    .dataframe tbody tr th {\n        vertical-align: top;\n    }\n\n    .dataframe thead th {\n        text-align: right;\n    }\n</style>\n<table border=\"1\" class=\"dataframe\">\n  <thead>\n    <tr style=\"text-align: right;\">\n      <th></th>\n      <th>Type</th>\n    </tr>\n  </thead>\n  <tbody>\n    <tr>\n      <th>0</th>\n      <td>Basalt</td>\n    </tr>\n    <tr>\n      <th>1</th>\n      <td>Breccia</td>\n    </tr>\n    <tr>\n      <th>2</th>\n      <td>Crustal</td>\n    </tr>\n  </tbody>\n</table>\n</div>"
     },
     "metadata": {},
     "execution_count": 36
    }
   ],
   "source": [
    "needed_samples_overview = pd.DataFrame()\n",
    "needed_samples_overview['Type'] = needed_samples.Type.unique()\n",
    "needed_samples_overview"
   ]
  },
  {
   "cell_type": "code",
   "execution_count": 37,
   "metadata": {},
   "outputs": [],
   "source": [
    "needed_sample_weights = needed_samples.groupby('Type')['Weight(kg)'].sum()\n",
    "needed_samples_overview = pd.merge(needed_samples_overview, needed_sample_weights, on='Type')\n",
    "needed_samples_overview.rename(columns={'Weight(kg)' : 'Total Weight(kg)'}, inplace=True)"
   ]
  },
  {
   "cell_type": "code",
   "execution_count": 38,
   "metadata": {},
   "outputs": [
    {
     "output_type": "execute_result",
     "data": {
      "text/plain": [
       "      Type  Total Weight(kg)\n",
       "0   Basalt          17.42340\n",
       "1  Breccia          10.11850\n",
       "2  Crustal           4.74469"
      ],
      "text/html": "<div>\n<style scoped>\n    .dataframe tbody tr th:only-of-type {\n        vertical-align: middle;\n    }\n\n    .dataframe tbody tr th {\n        vertical-align: top;\n    }\n\n    .dataframe thead th {\n        text-align: right;\n    }\n</style>\n<table border=\"1\" class=\"dataframe\">\n  <thead>\n    <tr style=\"text-align: right;\">\n      <th></th>\n      <th>Type</th>\n      <th>Total Weight(kg)</th>\n    </tr>\n  </thead>\n  <tbody>\n    <tr>\n      <th>0</th>\n      <td>Basalt</td>\n      <td>17.42340</td>\n    </tr>\n    <tr>\n      <th>1</th>\n      <td>Breccia</td>\n      <td>10.11850</td>\n    </tr>\n    <tr>\n      <th>2</th>\n      <td>Crustal</td>\n      <td>4.74469</td>\n    </tr>\n  </tbody>\n</table>\n</div>"
     },
     "metadata": {},
     "execution_count": 38
    }
   ],
   "source": [
    "needed_samples_overview"
   ]
  },
  {
   "cell_type": "code",
   "execution_count": 39,
   "metadata": {},
   "outputs": [
    {
     "output_type": "execute_result",
     "data": {
      "text/plain": [
       "      Type  Total Weight(kg)  Ave Weight(kg)\n",
       "0   Basalt          17.42340        1.244529\n",
       "1  Breccia          10.11850        1.264812\n",
       "2  Crustal           4.74469        0.103145"
      ],
      "text/html": "<div>\n<style scoped>\n    .dataframe tbody tr th:only-of-type {\n        vertical-align: middle;\n    }\n\n    .dataframe tbody tr th {\n        vertical-align: top;\n    }\n\n    .dataframe thead th {\n        text-align: right;\n    }\n</style>\n<table border=\"1\" class=\"dataframe\">\n  <thead>\n    <tr style=\"text-align: right;\">\n      <th></th>\n      <th>Type</th>\n      <th>Total Weight(kg)</th>\n      <th>Ave Weight(kg)</th>\n    </tr>\n  </thead>\n  <tbody>\n    <tr>\n      <th>0</th>\n      <td>Basalt</td>\n      <td>17.42340</td>\n      <td>1.244529</td>\n    </tr>\n    <tr>\n      <th>1</th>\n      <td>Breccia</td>\n      <td>10.11850</td>\n      <td>1.264812</td>\n    </tr>\n    <tr>\n      <th>2</th>\n      <td>Crustal</td>\n      <td>4.74469</td>\n      <td>0.103145</td>\n    </tr>\n  </tbody>\n</table>\n</div>"
     },
     "metadata": {},
     "execution_count": 39
    }
   ],
   "source": [
    "needed_sample_ave_weights = needed_samples.groupby('Type')['Weight(kg)'].mean().reset_index()\n",
    "needed_samples_overview = pd.merge(needed_samples_overview, needed_sample_ave_weights, on='Type')\n",
    "needed_samples_overview.rename(columns={'Weight(kg)':'Ave Weight(kg)'}, inplace=True)\n",
    "needed_samples_overview"
   ]
  },
  {
   "cell_type": "code",
   "execution_count": 40,
   "metadata": {},
   "outputs": [],
   "source": [
    "total_rock_count = rock_samples.groupby('Type')['ID'].count().reset_index()\n",
    "needed_samples_overview = pd.merge(needed_samples_overview, total_rock_count, on='Type')\n",
    "needed_samples_overview.rename(columns={'ID' : 'Number of samples'}, inplace=True)\n",
    "total_rocks = needed_samples_overview['Number of samples'].sum()\n"
   ]
  },
  {
   "cell_type": "code",
   "execution_count": 41,
   "metadata": {},
   "outputs": [
    {
     "output_type": "execute_result",
     "data": {
      "text/plain": [
       "      Type  Total Weight(kg)  Ave Weight(kg)  Number of samples  \\\n",
       "0   Basalt          17.42340        1.244529                351   \n",
       "1  Breccia          10.11850        1.264812                959   \n",
       "2  Crustal           4.74469        0.103145                 46   \n",
       "\n",
       "   Percentage of Rocks  \n",
       "0             0.258850  \n",
       "1             0.707227  \n",
       "2             0.033923  "
      ],
      "text/html": "<div>\n<style scoped>\n    .dataframe tbody tr th:only-of-type {\n        vertical-align: middle;\n    }\n\n    .dataframe tbody tr th {\n        vertical-align: top;\n    }\n\n    .dataframe thead th {\n        text-align: right;\n    }\n</style>\n<table border=\"1\" class=\"dataframe\">\n  <thead>\n    <tr style=\"text-align: right;\">\n      <th></th>\n      <th>Type</th>\n      <th>Total Weight(kg)</th>\n      <th>Ave Weight(kg)</th>\n      <th>Number of samples</th>\n      <th>Percentage of Rocks</th>\n    </tr>\n  </thead>\n  <tbody>\n    <tr>\n      <th>0</th>\n      <td>Basalt</td>\n      <td>17.42340</td>\n      <td>1.244529</td>\n      <td>351</td>\n      <td>0.258850</td>\n    </tr>\n    <tr>\n      <th>1</th>\n      <td>Breccia</td>\n      <td>10.11850</td>\n      <td>1.264812</td>\n      <td>959</td>\n      <td>0.707227</td>\n    </tr>\n    <tr>\n      <th>2</th>\n      <td>Crustal</td>\n      <td>4.74469</td>\n      <td>0.103145</td>\n      <td>46</td>\n      <td>0.033923</td>\n    </tr>\n  </tbody>\n</table>\n</div>"
     },
     "metadata": {},
     "execution_count": 41
    }
   ],
   "source": [
    "needed_samples_overview['Percentage of Rocks'] = needed_samples_overview['Number of samples'] / total_rocks\n",
    "needed_samples_overview"
   ]
  },
  {
   "cell_type": "code",
   "execution_count": 42,
   "metadata": {},
   "outputs": [
    {
     "output_type": "execute_result",
     "data": {
      "text/plain": [
       "64.22588520079607"
      ]
     },
     "metadata": {},
     "execution_count": 42
    }
   ],
   "source": [
    "artemis_ave_weight = artemis_mission['Estimated Sample Weight (kg)'].mean()\n",
    "artemis_ave_weight"
   ]
  },
  {
   "cell_type": "code",
   "execution_count": 43,
   "metadata": {},
   "outputs": [
    {
     "output_type": "execute_result",
     "data": {
      "text/plain": [
       "      Type  Total Weight(kg)  Ave Weight(kg)  Number of samples  \\\n",
       "0   Basalt          17.42340        1.244529                351   \n",
       "1  Breccia          10.11850        1.264812                959   \n",
       "2  Crustal           4.74469        0.103145                 46   \n",
       "\n",
       "   Percentage of Rocks  Weight to Collect  Rocks to Collect  \n",
       "0             0.258850          16.624842         13.358345  \n",
       "1             0.707227          45.422289         35.912271  \n",
       "2             0.033923           2.178754         21.123128  "
      ],
      "text/html": "<div>\n<style scoped>\n    .dataframe tbody tr th:only-of-type {\n        vertical-align: middle;\n    }\n\n    .dataframe tbody tr th {\n        vertical-align: top;\n    }\n\n    .dataframe thead th {\n        text-align: right;\n    }\n</style>\n<table border=\"1\" class=\"dataframe\">\n  <thead>\n    <tr style=\"text-align: right;\">\n      <th></th>\n      <th>Type</th>\n      <th>Total Weight(kg)</th>\n      <th>Ave Weight(kg)</th>\n      <th>Number of samples</th>\n      <th>Percentage of Rocks</th>\n      <th>Weight to Collect</th>\n      <th>Rocks to Collect</th>\n    </tr>\n  </thead>\n  <tbody>\n    <tr>\n      <th>0</th>\n      <td>Basalt</td>\n      <td>17.42340</td>\n      <td>1.244529</td>\n      <td>351</td>\n      <td>0.258850</td>\n      <td>16.624842</td>\n      <td>13.358345</td>\n    </tr>\n    <tr>\n      <th>1</th>\n      <td>Breccia</td>\n      <td>10.11850</td>\n      <td>1.264812</td>\n      <td>959</td>\n      <td>0.707227</td>\n      <td>45.422289</td>\n      <td>35.912271</td>\n    </tr>\n    <tr>\n      <th>2</th>\n      <td>Crustal</td>\n      <td>4.74469</td>\n      <td>0.103145</td>\n      <td>46</td>\n      <td>0.033923</td>\n      <td>2.178754</td>\n      <td>21.123128</td>\n    </tr>\n  </tbody>\n</table>\n</div>"
     },
     "metadata": {},
     "execution_count": 43
    }
   ],
   "source": [
    "needed_samples_overview['Weight to Collect'] = needed_samples_overview['Percentage of Rocks'] * artemis_ave_weight\n",
    "\n",
    "needed_samples_overview['Rocks to Collect'] = needed_samples_overview['Weight to Collect'] / needed_samples_overview['Ave Weight(kg)']\n",
    "\n",
    "needed_samples_overview"
   ]
  },
  {
   "cell_type": "code",
   "execution_count": 44,
   "metadata": {},
   "outputs": [
    {
     "output_type": "execute_result",
     "data": {
      "text/plain": [
       "375.03599000000014"
      ]
     },
     "metadata": {},
     "execution_count": 44
    }
   ],
   "source": [
    "total_apollo_sample_weight = missions['Sample Weight(kg)'].sum()\n",
    "total_apollo_sample_weight"
   ]
  }
 ]
}